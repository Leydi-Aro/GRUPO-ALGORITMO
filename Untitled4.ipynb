{
  "nbformat": 4,
  "nbformat_minor": 0,
  "metadata": {
    "colab": {
      "name": "Untitled4.ipynb",
      "provenance": [],
      "authorship_tag": "ABX9TyOYE6Q6gme+X2SjeWCjzo2V",
      "include_colab_link": true
    },
    "kernelspec": {
      "name": "python3",
      "display_name": "Python 3"
    },
    "language_info": {
      "name": "python"
    }
  },
  "cells": [
    {
      "cell_type": "markdown",
      "metadata": {
        "id": "view-in-github",
        "colab_type": "text"
      },
      "source": [
        "<a href=\"https://colab.research.google.com/github/Leydi-Aro/GRUPO-ALGORITMO/blob/main/Untitled4.ipynb\" target=\"_parent\"><img src=\"https://colab.research.google.com/assets/colab-badge.svg\" alt=\"Open In Colab\"/></a>"
      ]
    },
    {
      "cell_type": "code",
      "metadata": {
        "colab": {
          "base_uri": "https://localhost:8080/"
        },
        "id": "XukafFRjoV49",
        "outputId": "a1c855b7-c704-45ab-ce50-4ffda394151e"
      },
      "source": [
        "%%writefile R1.cpp\n",
        "\n",
        "#include <iostream>\n",
        "using namespace std;\n",
        "void f1(int n){\n",
        "    if(n>0){\n",
        "    //cout<<n<<\" \";\n",
        "    f1(n-1);\n",
        "    cout<<n<<\" \";\n",
        "    }\n",
        "}\n",
        "\n",
        "int main(){\n",
        "    //for(size_t i=0;i<10;++i)\n",
        "    //  cout<<i<<\" \";\n",
        "    f1(10);\n",
        "\n",
        "}"
      ],
      "execution_count": 10,
      "outputs": [
        {
          "output_type": "stream",
          "name": "stdout",
          "text": [
            "Writing R1.cpp\n"
          ]
        }
      ]
    },
    {
      "cell_type": "code",
      "metadata": {
        "colab": {
          "base_uri": "https://localhost:8080/"
        },
        "id": "77bD8hALoZ_X",
        "outputId": "1de9396f-a5fb-445d-d455-d736cdb41778"
      },
      "source": [
        "!g++ R1.cpp && ./a.out\n"
      ],
      "execution_count": 12,
      "outputs": [
        {
          "output_type": "stream",
          "name": "stdout",
          "text": [
            "1 2 3 4 5 6 7 8 9 10 "
          ]
        }
      ]
    },
    {
      "cell_type": "markdown",
      "metadata": {
        "id": "CxCFB9kysFKi"
      },
      "source": [
        "FOBONACII\n"
      ]
    },
    {
      "cell_type": "code",
      "metadata": {
        "colab": {
          "base_uri": "https://localhost:8080/"
        },
        "id": "84Um5op8sHYK",
        "outputId": "661fc586-0c38-470f-9621-d0def1fa2a95"
      },
      "source": [
        "%%writefile fibonacci.cpp\n",
        "\n",
        "#include <iostream>\n",
        "using namespace std;\n",
        "\n",
        " int main()\n",
        "{\n",
        "    int n,f1,f2,i;\n",
        " n=9;\n",
        "         //cout << \"Introduce N: \";cin >> n;  \n",
        "   f1=1;\n",
        "   f2=1;\n",
        "   cout << f1 << \" \";\n",
        "   for(i=2;i<=n;i++)\n",
        "   {\n",
        "       cout << f2 << \" \";\n",
        "       f2 = f1 + f2;\n",
        "       f1 = f2 - f1;\n",
        "   }\n",
        "\n",
        "}"
      ],
      "execution_count": 18,
      "outputs": [
        {
          "output_type": "stream",
          "name": "stdout",
          "text": [
            "Overwriting fibonacci.cpp\n"
          ]
        }
      ]
    },
    {
      "cell_type": "code",
      "metadata": {
        "colab": {
          "base_uri": "https://localhost:8080/"
        },
        "id": "-gS86cODsHjY",
        "outputId": "3307ba79-138c-48d9-9e81-b03b77c7c1a7"
      },
      "source": [
        "!g++ fibonacci.cpp && ./a.out"
      ],
      "execution_count": 19,
      "outputs": [
        {
          "output_type": "stream",
          "name": "stdout",
          "text": [
            "1 1 2 3 5 8 13 21 34 "
          ]
        }
      ]
    },
    {
      "cell_type": "markdown",
      "metadata": {
        "id": "M4Z1-Nf6t2a5"
      },
      "source": [
        "OJO CON RECURSIVIDAD"
      ]
    },
    {
      "cell_type": "code",
      "metadata": {
        "colab": {
          "base_uri": "https://localhost:8080/"
        },
        "id": "74jFicXYt5Jp",
        "outputId": "3a08f8a1-6858-4a33-c289-899f376ecf47"
      },
      "source": [
        "%%writefile fibonacciRE.cpp\n",
        "#include <iostream>\n",
        "using namespace std;\n",
        "\n",
        "int fibonacci(int n)\n",
        "{\n",
        "  if(n == 1 || n == 2) return 1;\n",
        "\n",
        "  return fibonacci(n-1) + fibonacci(n - 2);\n",
        "\n",
        "}\n",
        "int main(){\n",
        "    fibonacci(8);\n",
        "}"
      ],
      "execution_count": 20,
      "outputs": [
        {
          "output_type": "stream",
          "name": "stdout",
          "text": [
            "Writing fibonacciRE.cpp\n"
          ]
        }
      ]
    },
    {
      "cell_type": "code",
      "metadata": {
        "id": "ig__e9t3t5Vn"
      },
      "source": [
        "!g++ fibonacciRE.cpp && ./a.out"
      ],
      "execution_count": 22,
      "outputs": []
    },
    {
      "cell_type": "markdown",
      "metadata": {
        "id": "Lnpedg2UynNp"
      },
      "source": [
        "CORTE DE MELAMINE"
      ]
    },
    {
      "cell_type": "code",
      "metadata": {
        "colab": {
          "base_uri": "https://localhost:8080/"
        },
        "id": "T6toBOJayoAD",
        "outputId": "95379293-95f3-4175-9996-cbfc2327b0ad"
      },
      "source": [
        "%%writefile e1.cpp\n",
        "#include <iostream>\n",
        "\n",
        "using namespace std;\n",
        "\n",
        "void corte(int n, double l, double a){\n",
        "    cout<<\"Largo: \"<<l<<\"\\t Ancho: \"<<a<<\"\\n\";\n",
        "    if (n>0){\n",
        "        if(l > a) corte(n - 1, l/2, a);\n",
        "        else corte(n - 1, l, a/2);\n",
        "    }   \n",
        "}\n",
        "\n",
        "int main(){\n",
        "    corte(3, 300, 200);\n",
        "    return 0;\n",
        "}\n"
      ],
      "execution_count": 23,
      "outputs": [
        {
          "output_type": "stream",
          "name": "stdout",
          "text": [
            "Writing e1.cpp\n"
          ]
        }
      ]
    },
    {
      "cell_type": "code",
      "metadata": {
        "colab": {
          "base_uri": "https://localhost:8080/"
        },
        "id": "ytBOwlgb12Kj",
        "outputId": "d1d9e16c-c487-4e4a-c5af-1369ff62cba9"
      },
      "source": [
        "!g++ e1.cpp && ./a.out"
      ],
      "execution_count": 24,
      "outputs": [
        {
          "output_type": "stream",
          "name": "stdout",
          "text": [
            "Largo: 300\t Ancho: 200\n",
            "Largo: 150\t Ancho: 200\n",
            "Largo: 150\t Ancho: 100\n",
            "Largo: 75\t Ancho: 100\n"
          ]
        }
      ]
    }
  ]
}